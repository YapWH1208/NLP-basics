{
 "cells": [
  {
   "cell_type": "code",
   "execution_count": 1,
   "metadata": {},
   "outputs": [],
   "source": [
    "import spacy\n",
    "nlp = spacy.load('en_core_web_sm')"
   ]
  },
  {
   "cell_type": "code",
   "execution_count": 2,
   "metadata": {},
   "outputs": [],
   "source": [
    "doc = nlp(\"Today's weather is good, very windy and sunny, we have no classes in the afternoon.We have to play basketball tomorrow\")"
   ]
  },
  {
   "cell_type": "code",
   "execution_count": 3,
   "metadata": {},
   "outputs": [
    {
     "name": "stdout",
     "output_type": "stream",
     "text": [
      "Today\n",
      "'s\n",
      "weather\n",
      "is\n",
      "good\n",
      ",\n",
      "very\n",
      "windy\n",
      "and\n",
      "sunny\n",
      ",\n",
      "we\n",
      "have\n",
      "no\n",
      "classes\n",
      "in\n",
      "the\n",
      "afternoon\n",
      ".\n",
      "We\n",
      "have\n",
      "to\n",
      "play\n",
      "basketball\n",
      "tomorrow\n"
     ]
    }
   ],
   "source": [
    "for token in doc:\n",
    "    print(token)"
   ]
  },
  {
   "cell_type": "code",
   "execution_count": 4,
   "metadata": {},
   "outputs": [
    {
     "name": "stdout",
     "output_type": "stream",
     "text": [
      "Today's weather is good, very windy and sunny, we have no classes in the afternoon.\n",
      "We have to play basketball tomorrow\n"
     ]
    }
   ],
   "source": [
    "for sentence in doc.sents:\n",
    "    print(sentence)"
   ]
  },
  {
   "attachments": {},
   "cell_type": "markdown",
   "metadata": {},
   "source": [
    "# POS"
   ]
  },
  {
   "cell_type": "code",
   "execution_count": 5,
   "metadata": {},
   "outputs": [
    {
     "name": "stdout",
     "output_type": "stream",
     "text": [
      "Today-NOUN\n",
      "'s-PART\n",
      "weather-NOUN\n",
      "is-AUX\n",
      "good-ADJ\n",
      ",-PUNCT\n",
      "very-ADV\n",
      "windy-ADJ\n",
      "and-CCONJ\n",
      "sunny-ADJ\n",
      ",-PUNCT\n",
      "we-PRON\n",
      "have-VERB\n",
      "no-DET\n",
      "classes-NOUN\n",
      "in-ADP\n",
      "the-DET\n",
      "afternoon-NOUN\n",
      ".-PUNCT\n",
      "We-PRON\n",
      "have-VERB\n",
      "to-PART\n",
      "play-VERB\n",
      "basketball-NOUN\n",
      "tomorrow-NOUN\n"
     ]
    }
   ],
   "source": [
    "for token in doc:\n",
    "    print('{}-{}'.format(token, token.pos_))"
   ]
  },
  {
   "attachments": {},
   "cell_type": "markdown",
   "metadata": {},
   "source": [
    "# Entity Recognition"
   ]
  },
  {
   "cell_type": "code",
   "execution_count": 6,
   "metadata": {},
   "outputs": [],
   "source": [
    "doc_2 = nlp(\"I went to Paris where I met my old friend Jack from univeristy.\")"
   ]
  },
  {
   "cell_type": "code",
   "execution_count": 7,
   "metadata": {},
   "outputs": [
    {
     "name": "stdout",
     "output_type": "stream",
     "text": [
      "Paris-GPE\n",
      "Jack-PERSON\n"
     ]
    }
   ],
   "source": [
    "for ent in doc_2.ents:\n",
    "    print('{}-{}'.format(ent, ent.label_))"
   ]
  },
  {
   "cell_type": "code",
   "execution_count": 8,
   "metadata": {},
   "outputs": [
    {
     "data": {
      "text/html": [
       "<span class=\"tex2jax_ignore\"><div class=\"entities\" style=\"line-height: 2.5; direction: ltr\">I went to \n",
       "<mark class=\"entity\" style=\"background: #feca74; padding: 0.45em 0.6em; margin: 0 0.25em; line-height: 1; border-radius: 0.35em;\">\n",
       "    Paris\n",
       "    <span style=\"font-size: 0.8em; font-weight: bold; line-height: 1; border-radius: 0.35em; vertical-align: middle; margin-left: 0.5rem\">GPE</span>\n",
       "</mark>\n",
       " where I met my old friend \n",
       "<mark class=\"entity\" style=\"background: #aa9cfc; padding: 0.45em 0.6em; margin: 0 0.25em; line-height: 1; border-radius: 0.35em;\">\n",
       "    Jack\n",
       "    <span style=\"font-size: 0.8em; font-weight: bold; line-height: 1; border-radius: 0.35em; vertical-align: middle; margin-left: 0.5rem\">PERSON</span>\n",
       "</mark>\n",
       " from univeristy.</div></span>"
      ],
      "text/plain": [
       "<IPython.core.display.HTML object>"
      ]
     },
     "metadata": {},
     "output_type": "display_data"
    }
   ],
   "source": [
    "from spacy import displacy\n",
    "\n",
    "doc_2 = nlp(\"I went to Paris where I met my old friend Jack from univeristy.\")\n",
    "displacy.render(doc_2, style='ent', jupyter=True)"
   ]
  },
  {
   "attachments": {},
   "cell_type": "markdown",
   "metadata": {},
   "source": [
    "### Case Study: Find all entity in book"
   ]
  },
  {
   "cell_type": "code",
   "execution_count": 18,
   "metadata": {},
   "outputs": [],
   "source": [
    "def read_file(file_name):\n",
    "    with open(file_name, 'r', encoding='windows-1252') as file:\n",
    "        return file.read()"
   ]
  },
  {
   "cell_type": "code",
   "execution_count": 19,
   "metadata": {},
   "outputs": [],
   "source": [
    "text = read_file('C:/Users/YapWH/MSVC/NLP/Basic_Remastered/data/A.txt')\n",
    "processed_text = nlp(text)"
   ]
  },
  {
   "cell_type": "code",
   "execution_count": 20,
   "metadata": {},
   "outputs": [
    {
     "name": "stdout",
     "output_type": "stream",
     "text": [
      "5483\n"
     ]
    }
   ],
   "source": [
    "sentence = [s for s in processed_text.sents]\n",
    "print(len(sentence))"
   ]
  },
  {
   "cell_type": "code",
   "execution_count": 21,
   "metadata": {},
   "outputs": [
    {
     "data": {
      "text/plain": [
       "[The Project Gutenberg eBook of Pride and prejudice, by Jane Austen\n",
       " \n",
       " This eBook is for the use of anyone anywhere in the United States and\n",
       " most other parts of the world at no cost and with almost no restrictions\n",
       " whatsoever.,\n",
       " You may copy it, give it away or re-use it under the terms\n",
       " of the Project Gutenberg License included with this eBook or online at\n",
       " www.gutenberg.org.,\n",
       " If you are not located in the United States, you\n",
       " will have to check the laws of the country where you are located before\n",
       " using this eBook.\n",
       " ,\n",
       " Title: Pride and prejudice\n",
       " \n",
       " Author: Jane Austen\n",
       " \n",
       " Release Date: November 12, 2022 [eBook #1342]\n",
       " ,\n",
       " Language]"
      ]
     },
     "execution_count": 21,
     "metadata": {},
     "output_type": "execute_result"
    }
   ],
   "source": [
    "sentence[:5]"
   ]
  },
  {
   "cell_type": "code",
   "execution_count": 23,
   "metadata": {},
   "outputs": [],
   "source": [
    "from collections import Counter"
   ]
  },
  {
   "cell_type": "code",
   "execution_count": 24,
   "metadata": {},
   "outputs": [
    {
     "name": "stdout",
     "output_type": "stream",
     "text": [
      "[('Elizabeth', 552), ('Darcy', 337), ('Jane', 253), ('Bennet', 246), ('Wickham', 154), ('Collins', 151), ('Bingley', 117), ('Lady Catherine', 79), ('Gardiner', 78), ('Lizzy', 70)]\n"
     ]
    }
   ],
   "source": [
    "def find_person(doc):\n",
    "    c = Counter()\n",
    "    for ent in processed_text.ents:\n",
    "        if ent.label_ == 'PERSON':\n",
    "            c[ent.lemma_] += 1\n",
    "    return c.most_common(10)\n",
    "\n",
    "print(find_person(processed_text))"
   ]
  }
 ],
 "metadata": {
  "kernelspec": {
   "display_name": "tf",
   "language": "python",
   "name": "python3"
  },
  "language_info": {
   "codemirror_mode": {
    "name": "ipython",
    "version": 3
   },
   "file_extension": ".py",
   "mimetype": "text/x-python",
   "name": "python",
   "nbconvert_exporter": "python",
   "pygments_lexer": "ipython3",
   "version": "3.9.12"
  },
  "orig_nbformat": 4,
  "vscode": {
   "interpreter": {
    "hash": "209be9b8499d28505ac4bc6a21dd7047f4ceb570c2607af89de8a7b92715eaa4"
   }
  }
 },
 "nbformat": 4,
 "nbformat_minor": 2
}
