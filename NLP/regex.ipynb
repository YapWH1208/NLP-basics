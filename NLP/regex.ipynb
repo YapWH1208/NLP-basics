{
 "cells": [
  {
   "cell_type": "code",
   "execution_count": null,
   "metadata": {},
   "outputs": [],
   "source": [
    "import re"
   ]
  },
  {
   "cell_type": "code",
   "execution_count": null,
   "metadata": {},
   "outputs": [],
   "source": [
    "input = 'Natural Language Procesing is cool. do you agree? 123 abc'"
   ]
  },
  {
   "attachments": {},
   "cell_type": "markdown",
   "metadata": {},
   "source": [
    "# extract"
   ]
  },
  {
   "cell_type": "code",
   "execution_count": null,
   "metadata": {},
   "outputs": [],
   "source": [
    "# Extract all characters\n",
    "pattern = re.compile(r'.')\n",
    "re.findall(pattern,input)"
   ]
  },
  {
   "cell_type": "code",
   "execution_count": null,
   "metadata": {},
   "outputs": [],
   "source": [
    "# Extract certain characters\n",
    "pattern = re.compile(r'[abc]')\n",
    "re.findall(pattern,input)"
   ]
  },
  {
   "cell_type": "code",
   "execution_count": null,
   "metadata": {},
   "outputs": [],
   "source": [
    "# Extract certain characters\n",
    "pattern = re.compile(r'[a-zA-Z]')\n",
    "re.findall(pattern,input)"
   ]
  },
  {
   "cell_type": "code",
   "execution_count": null,
   "metadata": {},
   "outputs": [],
   "source": [
    "# Extract all characters expect certain ones\n",
    "pattern = re.compile(r'[^a-z]')\n",
    "re.findall(pattern,input)"
   ]
  },
  {
   "cell_type": "code",
   "execution_count": null,
   "metadata": {},
   "outputs": [],
   "source": [
    "# Extract certain characters with or(|)\n",
    "pattern = re.compile(r'[A-Z]|[0-9]')\n",
    "re.findall(pattern,input)"
   ]
  },
  {
   "attachments": {},
   "cell_type": "markdown",
   "metadata": {},
   "source": [
    "# extract type"
   ]
  },
  {
   "cell_type": "code",
   "execution_count": null,
   "metadata": {},
   "outputs": [],
   "source": [
    "# Extract digits\n",
    "pattern = re.compile(r'\\d')\n",
    "re.findall(pattern,input)"
   ]
  },
  {
   "cell_type": "code",
   "execution_count": null,
   "metadata": {},
   "outputs": [],
   "source": [
    "# Extract all expect digits\n",
    "pattern = re.compile(r'\\D')\n",
    "re.findall(pattern,input)"
   ]
  },
  {
   "cell_type": "code",
   "execution_count": null,
   "metadata": {},
   "outputs": [],
   "source": [
    "# Extract characters and digits\n",
    "pattern = re.compile(r'\\w')\n",
    "re.findall(pattern,input)"
   ]
  },
  {
   "cell_type": "code",
   "execution_count": null,
   "metadata": {},
   "outputs": [],
   "source": [
    "# Extract all empty space\n",
    "pattern = re.compile(r'\\s')\n",
    "re.findall(pattern,input)"
   ]
  },
  {
   "attachments": {},
   "cell_type": "markdown",
   "metadata": {},
   "source": [
    "# match"
   ]
  },
  {
   "cell_type": "code",
   "execution_count": null,
   "metadata": {},
   "outputs": [],
   "source": [
    "# match all characters 0 or many times\n",
    "pattern = re.compile(r'\\d*')\n",
    "re.findall(pattern,input)"
   ]
  },
  {
   "cell_type": "code",
   "execution_count": null,
   "metadata": {},
   "outputs": [],
   "source": [
    "# match all characters 1 time\n",
    "pattern = re.compile(r'\\d+')\n",
    "re.findall(pattern,input)"
   ]
  },
  {
   "cell_type": "code",
   "execution_count": null,
   "metadata": {},
   "outputs": [],
   "source": [
    "# match all characters 0 or 1 time\n",
    "pattern = re.compile(r'\\d?')\n",
    "re.findall(pattern,input)"
   ]
  },
  {
   "cell_type": "code",
   "execution_count": null,
   "metadata": {},
   "outputs": [],
   "source": [
    "# match all characters exact times\n",
    "pattern = re.compile(r'\\d{3}')\n",
    "re.findall(pattern,input)"
   ]
  },
  {
   "attachments": {},
   "cell_type": "markdown",
   "metadata": {},
   "source": [
    "# match and search"
   ]
  },
  {
   "cell_type": "code",
   "execution_count": 1,
   "metadata": {},
   "outputs": [],
   "source": [
    "input_2 = '123NLP'"
   ]
  },
  {
   "cell_type": "code",
   "execution_count": 14,
   "metadata": {},
   "outputs": [
    {
     "data": {
      "text/plain": [
       "'1'"
      ]
     },
     "execution_count": 14,
     "metadata": {},
     "output_type": "execute_result"
    }
   ],
   "source": [
    "# match from first character\n",
    "pattern = re.compile(r'\\d')\n",
    "match = re.match(pattern,input_2)\n",
    "match.group()"
   ]
  },
  {
   "attachments": {},
   "cell_type": "markdown",
   "metadata": {},
   "source": [
    "# sub"
   ]
  },
  {
   "cell_type": "code",
   "execution_count": 7,
   "metadata": {},
   "outputs": [
    {
     "data": {
      "text/plain": [
       "'   NLP'"
      ]
     },
     "execution_count": 7,
     "metadata": {},
     "output_type": "execute_result"
    }
   ],
   "source": [
    "# change specific characters\n",
    "pattern = re.compile(r'\\d')\n",
    "re.sub(pattern,' ',input_2)"
   ]
  },
  {
   "cell_type": "code",
   "execution_count": 6,
   "metadata": {},
   "outputs": [
    {
     "data": {
      "text/plain": [
       "('   NLP', 3)"
      ]
     },
     "execution_count": 6,
     "metadata": {},
     "output_type": "execute_result"
    }
   ],
   "source": [
    "# change and count specific characters\n",
    "pattern = re.compile(r'\\d')\n",
    "re.subn(pattern,' ',input_2)"
   ]
  },
  {
   "attachments": {},
   "cell_type": "markdown",
   "metadata": {},
   "source": [
    "# split"
   ]
  },
  {
   "cell_type": "code",
   "execution_count": 8,
   "metadata": {},
   "outputs": [],
   "source": [
    "input_3 = \"NLP123MachineLearning456DeepLearning\""
   ]
  },
  {
   "cell_type": "code",
   "execution_count": 9,
   "metadata": {},
   "outputs": [
    {
     "data": {
      "text/plain": [
       "['NLP', 'MachineLearning', 'DeepLearning']"
      ]
     },
     "execution_count": 9,
     "metadata": {},
     "output_type": "execute_result"
    }
   ],
   "source": [
    "# Split the digits\n",
    "pattern = re.compile(r'\\d+')\n",
    "re.split(pattern, input_3)"
   ]
  },
  {
   "cell_type": "code",
   "execution_count": 12,
   "metadata": {},
   "outputs": [
    {
     "data": {
      "text/plain": [
       "'MachineLearning'"
      ]
     },
     "execution_count": 12,
     "metadata": {},
     "output_type": "execute_result"
    }
   ],
   "source": [
    "# change certain words from specific data types\n",
    "pattern = re.compile(r'(?P<dota>\\d+)(?P<lol>\\D+)')\n",
    "m = re.search(pattern, input_3)\n",
    "m.group('lol')"
   ]
  },
  {
   "attachments": {},
   "cell_type": "markdown",
   "metadata": {},
   "source": [
    "# Example"
   ]
  },
  {
   "cell_type": "code",
   "execution_count": 14,
   "metadata": {},
   "outputs": [
    {
     "name": "stdout",
     "output_type": "stream",
     "text": [
      "('338-343-220',)\n"
     ]
    }
   ],
   "source": [
    "# Extract the number\n",
    "example = 'number 338-343-220'\n",
    "pattern = re.compile(r'(\\d\\d\\d-\\d\\d\\d-\\d\\d\\d)')\n",
    "m = re.search(pattern, example)\n",
    "\n",
    "print(m.groups())"
   ]
  }
 ],
 "metadata": {
  "kernelspec": {
   "display_name": "tf",
   "language": "python",
   "name": "python3"
  },
  "language_info": {
   "codemirror_mode": {
    "name": "ipython",
    "version": 3
   },
   "file_extension": ".py",
   "mimetype": "text/x-python",
   "name": "python",
   "nbconvert_exporter": "python",
   "pygments_lexer": "ipython3",
   "version": "3.9.12"
  },
  "orig_nbformat": 4,
  "vscode": {
   "interpreter": {
    "hash": "209be9b8499d28505ac4bc6a21dd7047f4ceb570c2607af89de8a7b92715eaa4"
   }
  }
 },
 "nbformat": 4,
 "nbformat_minor": 2
}
